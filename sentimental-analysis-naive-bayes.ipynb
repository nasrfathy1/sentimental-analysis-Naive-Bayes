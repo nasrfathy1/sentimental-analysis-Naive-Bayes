{
 "cells": [
  {
   "cell_type": "code",
   "execution_count": 1,
   "id": "4c531449",
   "metadata": {
    "execution": {
     "iopub.execute_input": "2023-05-19T17:34:23.348985Z",
     "iopub.status.busy": "2023-05-19T17:34:23.348022Z",
     "iopub.status.idle": "2023-05-19T17:34:25.171088Z",
     "shell.execute_reply": "2023-05-19T17:34:25.170155Z"
    },
    "papermill": {
     "duration": 1.83338,
     "end_time": "2023-05-19T17:34:25.173683",
     "exception": false,
     "start_time": "2023-05-19T17:34:23.340303",
     "status": "completed"
    },
    "tags": []
   },
   "outputs": [
    {
     "name": "stderr",
     "output_type": "stream",
     "text": [
      "/opt/conda/lib/python3.10/site-packages/scipy/__init__.py:146: UserWarning: A NumPy version >=1.16.5 and <1.23.0 is required for this version of SciPy (detected version 1.23.5\n",
      "  warnings.warn(f\"A NumPy version >={np_minversion} and <{np_maxversion}\"\n"
     ]
    }
   ],
   "source": [
    "import numpy as np\n",
    "\n",
    "import re\n",
    "from sklearn.model_selection import train_test_split\n",
    "from nltk.corpus import stopwords,twitter_samples\n",
    "from nltk.tokenize import  TweetTokenizer\n",
    "from nltk.stem import PorterStemmer\n",
    "from string import punctuation\n",
    "import matplotlib.pyplot as plt"
   ]
  },
  {
   "cell_type": "code",
   "execution_count": 2,
   "id": "ebd8f8ff",
   "metadata": {
    "execution": {
     "iopub.execute_input": "2023-05-19T17:34:25.186815Z",
     "iopub.status.busy": "2023-05-19T17:34:25.185175Z",
     "iopub.status.idle": "2023-05-19T17:34:25.194845Z",
     "shell.execute_reply": "2023-05-19T17:34:25.193687Z"
    },
    "papermill": {
     "duration": 0.018702,
     "end_time": "2023-05-19T17:34:25.197480",
     "exception": false,
     "start_time": "2023-05-19T17:34:25.178778",
     "status": "completed"
    },
    "tags": []
   },
   "outputs": [],
   "source": [
    "def preprocess_tweete(corbus,tokenizer,steeming,stop_words):\n",
    "    clean_corbus=[]\n",
    "    for index,tweet in enumerate (corbus):\n",
    "        # remove old style retweet text \"RT\"\n",
    "        tweet = re.sub(r'^RT[\\s]+', '',tweet )\n",
    "\n",
    "        # remove hyperlinks\n",
    "        tweet = re.sub(r'https?://[^\\s\\n\\r]+', '', tweet)\n",
    "\n",
    "        # remove hashtags\n",
    "        # only removing the hash # sign from the word\n",
    "        tweet = re.sub(r'#', '', tweet)\n",
    "        \n",
    "        tokenzie_tweet=tokenizer(tweet)\n",
    "        \n",
    "        clean_tweet=[]\n",
    "        for token in tokenzie_tweet:\n",
    "            if token not in stop_words and token not in punctuation:\n",
    "                clean_tweet.append(steeming(token))\n",
    "\n",
    "        \n",
    "        \n",
    "        clean_corbus.append(clean_tweet)\n",
    "    return clean_corbus\n",
    "\n",
    "        "
   ]
  },
  {
   "cell_type": "code",
   "execution_count": 3,
   "id": "7c85dff4",
   "metadata": {
    "execution": {
     "iopub.execute_input": "2023-05-19T17:34:25.209021Z",
     "iopub.status.busy": "2023-05-19T17:34:25.208649Z",
     "iopub.status.idle": "2023-05-19T17:34:25.214655Z",
     "shell.execute_reply": "2023-05-19T17:34:25.213608Z"
    },
    "papermill": {
     "duration": 0.014607,
     "end_time": "2023-05-19T17:34:25.217148",
     "exception": false,
     "start_time": "2023-05-19T17:34:25.202541",
     "status": "completed"
    },
    "tags": []
   },
   "outputs": [],
   "source": [
    "def freq_dict(clean_tweet,labels):\n",
    "    freq_dict={}\n",
    "    for label,tweet in zip(labels,clean_tweet):\n",
    "        for word in tweet:\n",
    "            freq_dict[(word,label)]=freq_dict.get((word,label),0)+1\n",
    "    return freq_dict"
   ]
  },
  {
   "cell_type": "code",
   "execution_count": 4,
   "id": "62d17d1d",
   "metadata": {
    "execution": {
     "iopub.execute_input": "2023-05-19T17:34:25.228975Z",
     "iopub.status.busy": "2023-05-19T17:34:25.228346Z",
     "iopub.status.idle": "2023-05-19T17:34:25.238463Z",
     "shell.execute_reply": "2023-05-19T17:34:25.237286Z"
    },
    "papermill": {
     "duration": 0.018701,
     "end_time": "2023-05-19T17:34:25.240848",
     "exception": false,
     "start_time": "2023-05-19T17:34:25.222147",
     "status": "completed"
    },
    "tags": []
   },
   "outputs": [],
   "source": [
    "def Naive_Bayes(x_train,y_train,freq):\n",
    "    vocap={word for word,_ in freq.keys()}\n",
    "    vocap_size=len(vocap)\n",
    "    number_positove=sum(y_train==1)\n",
    "    number_negative=sum(y_train==0)\n",
    "    log_prior=np.log(number_positove/number_negative)\n",
    "    positive_words=negative_words=0\n",
    "    for word in vocap:\n",
    "        if freq.get((word,1),0)!=0:\n",
    "            positive_words+=1\n",
    "        if freq.get((word,0),0)!=0:\n",
    "            negative_words+=1\n",
    "    likehood={}\n",
    "    for i in vocap:\n",
    "        word_to_positve=(freq.get((i,1),0)+1)/(positive_words+vocap_size)\n",
    "        word_to_negative=(freq.get((i,0),0)+1)/(negative_words+vocap_size)\n",
    "        log_probabilty=np.log(word_to_positve/word_to_negative)\n",
    "        likehood[i]=(word_to_positve,word_to_negative,log_probabilty)\n",
    "    return likehood,log_prior\n",
    "    \n",
    "        "
   ]
  },
  {
   "cell_type": "code",
   "execution_count": 5,
   "id": "1a6d0dce",
   "metadata": {
    "execution": {
     "iopub.execute_input": "2023-05-19T17:34:25.252596Z",
     "iopub.status.busy": "2023-05-19T17:34:25.252137Z",
     "iopub.status.idle": "2023-05-19T17:34:26.097112Z",
     "shell.execute_reply": "2023-05-19T17:34:26.096037Z"
    },
    "papermill": {
     "duration": 0.85406,
     "end_time": "2023-05-19T17:34:26.099914",
     "exception": false,
     "start_time": "2023-05-19T17:34:25.245854",
     "status": "completed"
    },
    "tags": []
   },
   "outputs": [],
   "source": [
    "positive_tweet=twitter_samples.strings('positive_tweets.json')\n",
    "negative_tweet=twitter_samples.strings('negative_tweets.json')\n",
    "all_tweet=np.append(positive_tweet,negative_tweet)\n",
    "label=np.append(np.ones([len(positive_tweet),1]),np.zeros([len(negative_tweet),1]))"
   ]
  },
  {
   "cell_type": "code",
   "execution_count": 6,
   "id": "a537206a",
   "metadata": {
    "execution": {
     "iopub.execute_input": "2023-05-19T17:34:26.112388Z",
     "iopub.status.busy": "2023-05-19T17:34:26.111178Z",
     "iopub.status.idle": "2023-05-19T17:34:26.122441Z",
     "shell.execute_reply": "2023-05-19T17:34:26.121320Z"
    },
    "papermill": {
     "duration": 0.020065,
     "end_time": "2023-05-19T17:34:26.124953",
     "exception": false,
     "start_time": "2023-05-19T17:34:26.104888",
     "status": "completed"
    },
    "tags": []
   },
   "outputs": [],
   "source": [
    "stop_words=stopwords.words('english')\n",
    "tokenizer=TweetTokenizer(preserve_case=False,\n",
    "    reduce_len=True,\n",
    "    strip_handles=True)\n",
    "steeming=PorterStemmer()"
   ]
  },
  {
   "cell_type": "code",
   "execution_count": 7,
   "id": "11f08b90",
   "metadata": {
    "execution": {
     "iopub.execute_input": "2023-05-19T17:34:26.137644Z",
     "iopub.status.busy": "2023-05-19T17:34:26.136392Z",
     "iopub.status.idle": "2023-05-19T17:34:28.650869Z",
     "shell.execute_reply": "2023-05-19T17:34:28.649814Z"
    },
    "papermill": {
     "duration": 2.523465,
     "end_time": "2023-05-19T17:34:28.653449",
     "exception": false,
     "start_time": "2023-05-19T17:34:26.129984",
     "status": "completed"
    },
    "tags": []
   },
   "outputs": [],
   "source": [
    "clean_tweet=preprocess_tweete(all_tweet,tokenizer.tokenize,steeming.stem,stop_words)"
   ]
  },
  {
   "cell_type": "code",
   "execution_count": 8,
   "id": "ad748908",
   "metadata": {
    "execution": {
     "iopub.execute_input": "2023-05-19T17:34:28.664912Z",
     "iopub.status.busy": "2023-05-19T17:34:28.664518Z",
     "iopub.status.idle": "2023-05-19T17:34:28.710693Z",
     "shell.execute_reply": "2023-05-19T17:34:28.709690Z"
    },
    "papermill": {
     "duration": 0.054841,
     "end_time": "2023-05-19T17:34:28.713348",
     "exception": false,
     "start_time": "2023-05-19T17:34:28.658507",
     "status": "completed"
    },
    "tags": []
   },
   "outputs": [],
   "source": [
    "freq=freq_dict(clean_tweet,label)"
   ]
  },
  {
   "cell_type": "code",
   "execution_count": 9,
   "id": "6e8d93cf",
   "metadata": {
    "execution": {
     "iopub.execute_input": "2023-05-19T17:34:28.727085Z",
     "iopub.status.busy": "2023-05-19T17:34:28.724591Z",
     "iopub.status.idle": "2023-05-19T17:34:28.736769Z",
     "shell.execute_reply": "2023-05-19T17:34:28.735610Z"
    },
    "papermill": {
     "duration": 0.020809,
     "end_time": "2023-05-19T17:34:28.739130",
     "exception": false,
     "start_time": "2023-05-19T17:34:28.718321",
     "status": "completed"
    },
    "tags": []
   },
   "outputs": [],
   "source": [
    "x_train,x_test,y_train,y_test=train_test_split(clean_tweet,label,test_size=.2)"
   ]
  },
  {
   "cell_type": "code",
   "execution_count": 10,
   "id": "55493ecf",
   "metadata": {
    "execution": {
     "iopub.execute_input": "2023-05-19T17:34:28.751059Z",
     "iopub.status.busy": "2023-05-19T17:34:28.750568Z",
     "iopub.status.idle": "2023-05-19T17:34:28.798723Z",
     "shell.execute_reply": "2023-05-19T17:34:28.797273Z"
    },
    "papermill": {
     "duration": 0.056871,
     "end_time": "2023-05-19T17:34:28.801251",
     "exception": false,
     "start_time": "2023-05-19T17:34:28.744380",
     "status": "completed"
    },
    "tags": []
   },
   "outputs": [],
   "source": [
    "likehood,log_perior=Naive_Bayes(x_train,y_train,freq)"
   ]
  },
  {
   "cell_type": "code",
   "execution_count": 11,
   "id": "81f3cb53",
   "metadata": {
    "execution": {
     "iopub.execute_input": "2023-05-19T17:34:28.812760Z",
     "iopub.status.busy": "2023-05-19T17:34:28.812360Z",
     "iopub.status.idle": "2023-05-19T17:34:28.818160Z",
     "shell.execute_reply": "2023-05-19T17:34:28.817053Z"
    },
    "papermill": {
     "duration": 0.014617,
     "end_time": "2023-05-19T17:34:28.820800",
     "exception": false,
     "start_time": "2023-05-19T17:34:28.806183",
     "status": "completed"
    },
    "tags": []
   },
   "outputs": [],
   "source": [
    "def predict(sample,likehood,log_perior):\n",
    "    values=0\n",
    "    for token in (sample):\n",
    "        values+=likehood[token][2]\n",
    "        \n",
    "        \n",
    "    predict=1 if values*log_perior>0 else 0\n",
    "    return predict\n",
    "        \n",
    "    \n",
    "   "
   ]
  },
  {
   "cell_type": "code",
   "execution_count": 12,
   "id": "5e5cebf5",
   "metadata": {
    "execution": {
     "iopub.execute_input": "2023-05-19T17:34:28.832565Z",
     "iopub.status.busy": "2023-05-19T17:34:28.832171Z",
     "iopub.status.idle": "2023-05-19T17:34:28.838123Z",
     "shell.execute_reply": "2023-05-19T17:34:28.837105Z"
    },
    "papermill": {
     "duration": 0.014471,
     "end_time": "2023-05-19T17:34:28.840323",
     "exception": false,
     "start_time": "2023-05-19T17:34:28.825852",
     "status": "completed"
    },
    "tags": []
   },
   "outputs": [],
   "source": [
    "def accuracy(x_test,y_test,likehood,log_perior):\n",
    "    Y=np.zeros_like(y_test)\n",
    "    \n",
    "    for index,sample in enumerate(x_test):\n",
    "        value=predict(sample,likehood,log_perior)\n",
    "        Y[index]=value\n",
    "    accuracy=sum(y_test==Y)/len(y_test)\n",
    "    return accuracy\n",
    "        \n",
    "        \n",
    "        \n",
    "        \n",
    "    "
   ]
  },
  {
   "cell_type": "code",
   "execution_count": 13,
   "id": "f93658ff",
   "metadata": {
    "execution": {
     "iopub.execute_input": "2023-05-19T17:34:28.852599Z",
     "iopub.status.busy": "2023-05-19T17:34:28.852184Z",
     "iopub.status.idle": "2023-05-19T17:34:28.867664Z",
     "shell.execute_reply": "2023-05-19T17:34:28.866396Z"
    },
    "papermill": {
     "duration": 0.024519,
     "end_time": "2023-05-19T17:34:28.869929",
     "exception": false,
     "start_time": "2023-05-19T17:34:28.845410",
     "status": "completed"
    },
    "tags": []
   },
   "outputs": [
    {
     "data": {
      "text/plain": [
       "0.9985"
      ]
     },
     "execution_count": 13,
     "metadata": {},
     "output_type": "execute_result"
    }
   ],
   "source": [
    "accuracy(x_test,y_test,likehood,log_perior)"
   ]
  },
  {
   "cell_type": "code",
   "execution_count": 14,
   "id": "b5b5a5f4",
   "metadata": {
    "execution": {
     "iopub.execute_input": "2023-05-19T17:34:28.881963Z",
     "iopub.status.busy": "2023-05-19T17:34:28.881506Z",
     "iopub.status.idle": "2023-05-19T17:34:28.887688Z",
     "shell.execute_reply": "2023-05-19T17:34:28.886612Z"
    },
    "papermill": {
     "duration": 0.015014,
     "end_time": "2023-05-19T17:34:28.889979",
     "exception": false,
     "start_time": "2023-05-19T17:34:28.874965",
     "status": "completed"
    },
    "tags": []
   },
   "outputs": [],
   "source": [
    "def Predict_your_tweet(tweet,likehood,log_perior):\n",
    "    tweet=[tweet]\n",
    "    tweet=preprocess_tweete(tweet,tokenizer.tokenize,steeming.stem,stop_words)\n",
    "    y=predict(tweet[0],likehood,log_perior)\n",
    "    y='Positive'if y>0 else 'Negative'\n",
    "    return y\n",
    "    \n",
    "    \n",
    "    "
   ]
  },
  {
   "cell_type": "code",
   "execution_count": 15,
   "id": "4ece84d4",
   "metadata": {
    "execution": {
     "iopub.execute_input": "2023-05-19T17:34:28.901930Z",
     "iopub.status.busy": "2023-05-19T17:34:28.901500Z",
     "iopub.status.idle": "2023-05-19T17:34:28.908875Z",
     "shell.execute_reply": "2023-05-19T17:34:28.907757Z"
    },
    "papermill": {
     "duration": 0.015962,
     "end_time": "2023-05-19T17:34:28.911014",
     "exception": false,
     "start_time": "2023-05-19T17:34:28.895052",
     "status": "completed"
    },
    "tags": []
   },
   "outputs": [
    {
     "data": {
      "text/plain": [
       "'Positive'"
      ]
     },
     "execution_count": 15,
     "metadata": {},
     "output_type": "execute_result"
    }
   ],
   "source": [
    "Predict_your_tweet('i love you',likehood,log_perior)"
   ]
  },
  {
   "cell_type": "code",
   "execution_count": null,
   "id": "cf9a2124",
   "metadata": {
    "papermill": {
     "duration": 0.005327,
     "end_time": "2023-05-19T17:34:28.921640",
     "exception": false,
     "start_time": "2023-05-19T17:34:28.916313",
     "status": "completed"
    },
    "tags": []
   },
   "outputs": [],
   "source": []
  },
  {
   "cell_type": "code",
   "execution_count": null,
   "id": "725a70ed",
   "metadata": {
    "papermill": {
     "duration": 0.004729,
     "end_time": "2023-05-19T17:34:28.931423",
     "exception": false,
     "start_time": "2023-05-19T17:34:28.926694",
     "status": "completed"
    },
    "tags": []
   },
   "outputs": [],
   "source": []
  },
  {
   "cell_type": "code",
   "execution_count": null,
   "id": "464d63a6",
   "metadata": {
    "papermill": {
     "duration": 0.004728,
     "end_time": "2023-05-19T17:34:28.941192",
     "exception": false,
     "start_time": "2023-05-19T17:34:28.936464",
     "status": "completed"
    },
    "tags": []
   },
   "outputs": [],
   "source": []
  },
  {
   "cell_type": "code",
   "execution_count": null,
   "id": "75b494d4",
   "metadata": {
    "papermill": {
     "duration": 0.004776,
     "end_time": "2023-05-19T17:34:28.951050",
     "exception": false,
     "start_time": "2023-05-19T17:34:28.946274",
     "status": "completed"
    },
    "tags": []
   },
   "outputs": [],
   "source": []
  },
  {
   "cell_type": "code",
   "execution_count": null,
   "id": "d38f2fff",
   "metadata": {
    "papermill": {
     "duration": 0.004675,
     "end_time": "2023-05-19T17:34:28.960768",
     "exception": false,
     "start_time": "2023-05-19T17:34:28.956093",
     "status": "completed"
    },
    "tags": []
   },
   "outputs": [],
   "source": []
  }
 ],
 "metadata": {
  "kernelspec": {
   "display_name": "Python 3",
   "language": "python",
   "name": "python3"
  },
  "language_info": {
   "codemirror_mode": {
    "name": "ipython",
    "version": 3
   },
   "file_extension": ".py",
   "mimetype": "text/x-python",
   "name": "python",
   "nbconvert_exporter": "python",
   "pygments_lexer": "ipython3",
   "version": "3.10.10"
  },
  "papermill": {
   "default_parameters": {},
   "duration": 18.556267,
   "end_time": "2023-05-19T17:34:29.988034",
   "environment_variables": {},
   "exception": null,
   "input_path": "__notebook__.ipynb",
   "output_path": "__notebook__.ipynb",
   "parameters": {},
   "start_time": "2023-05-19T17:34:11.431767",
   "version": "2.4.0"
  }
 },
 "nbformat": 4,
 "nbformat_minor": 5
}
